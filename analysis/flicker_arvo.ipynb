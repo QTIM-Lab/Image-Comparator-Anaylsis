{
 "cells": [
  {
   "cell_type": "code",
   "execution_count": null,
   "metadata": {},
   "outputs": [],
   "source": [
    "import os, pandas as pd, numpy as np, seaborn as sns\n",
    "\n",
    "pd.set_option('display.max_columns', 50) # How many to show\n",
    "pd.set_option('display.min_rows', 25) # How many to show\n",
    "pd.set_option('display.max_rows', 25) # How many to show\n",
    "pd.set_option('display.width', 1000) # How far across the screen\n",
    "pd.set_option('display.max_colwidth', 100) # Column width in px\n",
    "pd.set_option('expand_frame_repr', True) # allows for the representation of dataframes to stretch across pages, wrapped over the full column vs row-wise\n",
    "\n",
    "from matplotlib import pyplot as plt \n",
    "from sklearn.metrics import confusion_matrix\n",
    "from dotenv import load_dotenv\n",
    "print(os.getcwd())\n",
    "\n",
    "# Optional below\n",
    "\n",
    "# load_dotenv('../.env_analysis')\n",
    "\n",
    "### If all else fails\n",
    "PROJECT_INPUT_DATA_DIR=\"/sddata/app_or_generated_data/Image-Comparator-Analysis/raw_annotations/arvo_abstract_flicker_12_06_2023\n",
    "PROJECT_DIR=\"/sddata/app_or_generated_data/Image-Comparator-Analysis/analysis/flicker_abstract_results_12_07_2023\n",
    "\n",
    "# DATA_DIR=os.environ[\"DATA_DIR\"]\n",
    "# PROJECT_DIR=os.environ[\"PROJECT_DIR\"]\n",
    "# PROJECT_INPUT_DATA_DIR=os.environ[\"PROJECT_INPUT_DATA_DIR\"]\n",
    "# DNS=os.environ[\"DNS\"]\n",
    "# IMAGES_DB=os.environ[\"IMAGES_DB\"]\n",
    "# DB_PORT=os.environ[\"DB_PORT\"]\n",
    "# DB_ADMIN_USER=os.environ[\"DB_ADMIN_USER\"]\n",
    "# DB_ADMIN_PASS=os.environ[\"DB_ADMIN_PASS\"]\n",
    "# ADMIN_PARTY=True if os.environ[\"ADMIN_PARTY\"] == 'True' else False\n",
    "\n",
    "# print(f\"\"\"\n",
    "# DATA_DIR: {DATA_DIR}\n",
    "# PROJECT_DIR: {PROJECT_DIR}\n",
    "# PROJECT_INPUT_DATA_DIR: {PROJECT_INPUT_DATA_DIR}\n",
    "# DNS: {DNS}\n",
    "# IMAGES_DB: {IMAGES_DB}\n",
    "# DB_PORT: {DB_PORT}\n",
    "# DB_ADMIN_USER: {DB_ADMIN_USER}\n",
    "# DB_ADMIN_PASS: {DB_ADMIN_PASS}\n",
    "# ADMIN_PARTY: {ADMIN_PARTY}\n",
    "# \"\"\")\n",
    "\n"
   ]
  },
  {
   "cell_type": "markdown",
   "metadata": {},
   "source": [
    "Read in everyone's annotations:"
   ]
  },
  {
   "cell_type": "code",
   "execution_count": null,
   "metadata": {},
   "outputs": [],
   "source": [
    "# image key\n",
    "image_key = pd.read_csv(os.path.join(PROJECT_INPUT_DATA_DIR, \"app_image_key.csv\"))\n",
    "image_key.sort_values('index', inplace=True)\n",
    "image_key['image_id'] = image_key['relative_path'] + \"_\" + image_key['image']\n",
    "\n",
    "# Scott's Model and EHR\n",
    "flicker_registered_stable = pd.read_csv(os.path.join(PROJECT_INPUT_DATA_DIR, \"flicker_registered_stable.csv\"))\n",
    "flicker_registered_stable.rename(columns={\"fixed_img_path\":\"image_1_id\", \"moving_img_path\":\"image_2_id\"}, inplace=True)\n",
    "\n",
    "EHR_stable = flicker_registered_stable.loc[:,[\"image_1_id\",\"image_2_id\",\"gt_cdr_before\",\"gt_cdr_after\"]]; EHR_stable.rename(columns={\"gt_cdr_before\":\"CDR_1\",\"gt_cdr_after\":\"CDR_2\"}, inplace=True)\n",
    "Segformer_stable = flicker_registered_stable.loc[:,[\"image_1_id\",\"image_2_id\",\"pred_cdr_before\",\"pred_cdr_after\"]]; Segformer_stable.rename(columns={\"gt_cdr_before\":\"CDR_1\",\"gt_cdr_after\":\"CDR_2\"}, inplace=True)\n",
    "\n",
    "flicker_registered_mild_prog = pd.read_csv(os.path.join(PROJECT_INPUT_DATA_DIR, \"flicker_registered_mild_prog.csv\"))\n",
    "flicker_registered_mild_prog.rename(columns={\"fixed_img_path\":\"image_1_id\", \"moving_img_path\":\"image_2_id\"}, inplace=True)\n",
    "\n",
    "EHR_mild_prog = flicker_registered_mild_prog.loc[:,[\"image_1_id\",\"image_2_id\",\"gt_cdr_before\",\"gt_cdr_after\"]]; EHR_mild_prog.rename(columns={\"gt_cdr_before\":\"CDR_1\",\"gt_cdr_after\":\"CDR_2\"}, inplace=True)\n",
    "Segformer_mild_prog = flicker_registered_mild_prog.loc[:,[\"image_1_id\",\"image_2_id\",\"pred_cdr_before\",\"pred_cdr_after\"]]; Segformer_mild_prog.rename(columns={\"gt_cdr_before\":\"CDR_1\",\"gt_cdr_after\":\"CDR_2\"}, inplace=True)\n",
    "\n",
    "flicker_registered_sig_prog = pd.read_csv(os.path.join(PROJECT_INPUT_DATA_DIR, \"flicker_registered_sig_prog.csv\"))\n",
    "flicker_registered_sig_prog.rename(columns={\"fixed_img_path\":\"image_1_id\", \"moving_img_path\":\"image_2_id\"}, inplace=True)\n",
    "\n",
    "EHR_sig_prog = flicker_registered_sig_prog.loc[:,[\"image_1_id\",\"image_2_id\",\"gt_cdr_before\",\"gt_cdr_after\"]]; EHR_sig_prog.rename(columns={\"gt_cdr_before\":\"CDR_1\",\"gt_cdr_after\":\"CDR_2\"}, inplace=True)\n",
    "Segformer_sig_prog = flicker_registered_sig_prog.loc[:,[\"image_1_id\",\"image_2_id\",\"pred_cdr_before\",\"pred_cdr_after\"]]; Segformer_sig_prog.rename(columns={\"gt_cdr_before\":\"CDR_1\",\"gt_cdr_after\":\"CDR_2\"}, inplace=True)\n",
    "\n",
    "\n",
    "# classify\n",
    "all_classify = pd.read_csv(os.path.join(PROJECT_INPUT_DATA_DIR, \"all-v2_12_1_23-classify-0.csv\"))\n",
    "all_classify = pd.merge(image_key, all_classify, on=\"image_id\")\n",
    "all_classify.rename(columns={\"Image\":\"CDR\"}, inplace=True)\n",
    "\n",
    "# compare\n",
    "all_compare = pd.read_csv(os.path.join(PROJECT_INPUT_DATA_DIR, \"all-v2_12_1_23-compare-0.csv\"))\n",
    "# flicker\n",
    "all_flicker = pd.read_csv(os.path.join(PROJECT_INPUT_DATA_DIR, \"all-v2_12_1_23-flicker-0.csv\"))\n"
   ]
  },
  {
   "cell_type": "markdown",
   "metadata": {},
   "source": [
    "## Stats to perform, maybe???"
   ]
  },
  {
   "cell_type": "markdown",
   "metadata": {},
   "source": [
    "[*] Interater variability - raw CDR\n",
    "  - Avg CDR by image even though there are 2 time points\n",
    "  - Get each persons Estimated CDR by these images\n",
    "  - plot is x-axis is average, and y-axis is estimated.\n",
    "    * there might be images where avg was same value, this will allow for multiple estimated CDRs by person to show up on this average\n",
    "  - Plot raters against each other\n",
    "    * \n",
    "\n",
    "\n",
    "[] Rater v Scott's Model\n",
    "  - 3 plots\n",
    "\n",
    "[] Bar plots for each rater showing counts for categories of radio buttons\n",
    "  - 3 plots\n"
   ]
  },
  {
   "cell_type": "markdown",
   "metadata": {},
   "source": [
    "### Interater Variability"
   ]
  },
  {
   "cell_type": "markdown",
   "metadata": {},
   "source": [
    "#### Expected v Average"
   ]
  },
  {
   "cell_type": "code",
   "execution_count": null,
   "metadata": {},
   "outputs": [],
   "source": [
    "mcnamast_classify = all_classify[all_classify['user'] == 'mcnamast']\n",
    "gdeitz_classify = all_classify[all_classify['user'] == 'gdeitz']\n",
    "swangyu_classify = all_classify[all_classify['user'] == 'swangyu']"
   ]
  },
  {
   "cell_type": "code",
   "execution_count": null,
   "metadata": {},
   "outputs": [],
   "source": [
    "print(f\"\"\"\n",
    "shapes:\n",
    "mcnamast: {mcnamast_classify.shape} \n",
    "gdeitz: {gdeitz_classify.shape} \n",
    "swangyu: {swangyu_classify.shape}\n",
    "average: {average_classify.shape}\n",
    "scotts_segformer:  #...\n",
    "ehr:  #...\n",
    "\"\"\")"
   ]
  },
  {
   "cell_type": "code",
   "execution_count": null,
   "metadata": {},
   "outputs": [],
   "source": [
    "mcnamast_classify.sort_values('image_id', inplace=True);\n",
    "gdeitz_classify.sort_values('image_id', inplace=True);\n",
    "swangyu_classify.sort_values('image_id', inplace=True);\n",
    "average_classify.sort_values('image_id', inplace=True);"
   ]
  },
  {
   "cell_type": "code",
   "execution_count": null,
   "metadata": {},
   "outputs": [],
   "source": [
    "data_classify = pd.DataFrame({\n",
    "\"image_id\": list(average_classify['image_id']),\n",
    "\"average_CDR\": list(average_classify['CDR']),\n",
    "\"mcnamast_CDR\": list(mcnamast_classify['CDR']),\n",
    "\"gdeitz_CDR\": list(gdeitz_classify['CDR']),\n",
    "\"swangyu_CDR\": list(swangyu_classify['CDR']),\n",
    "})\n",
    "\n",
    "sns.scatterplot(data=data_classify, x='average_CDR', y='mcnamast_CDR', label='mcnamast_CDR')\n",
    "sns.scatterplot(data=data_classify, x='average_CDR', y='gdeitz_CDR', label='gdeitz_CDR')\n",
    "sns.scatterplot(data=data_classify, x='average_CDR', y='swangyu_CDR', label='swangyu_CDR')\n",
    "\n",
    "\n",
    "# Melt the DataFrame to create a single column for y-values and another for category labels\n",
    "# melted_data = data.melt(id_vars=['image_id'], var_name='annotator', value_name='CDR')\n",
    "# melted_data\n",
    "# Create a scatter plot with different colors for each category\n",
    "# sns.scatterplot(data=melted_data, x='average_CDR', y='CDR', hue='annotator')\n",
    "\n",
    "# # # Customize the plot\n",
    "plt.xlabel('Average CDR')\n",
    "plt.ylabel('Estimated CDR')\n",
    "plt.title('Scatter Plot of Annotators Est v Avg CDR')\n",
    "plt.legend()\n",
    "\n",
    "# Show the plot\n",
    "plt.show()\n"
   ]
  },
  {
   "cell_type": "markdown",
   "metadata": {},
   "source": [
    "#### Raters Against Each Other"
   ]
  },
  {
   "cell_type": "code",
   "execution_count": null,
   "metadata": {},
   "outputs": [],
   "source": [
    "# Compare Bins Created from Classify\n",
    "average_classify = all_classify.groupby('image_id').mean(\"CDR\"); average_classify.reset_index(inplace=True)\n",
    "average_classify = pd.merge(image_key, average_classify, on=\"image_id\")[[\"image_id\",\"order\",\"CDR\"]]\n",
    "\n",
    "average_first = average_classify[average_classify['order'] == \"first\"][['image_id', 'order','CDR']].reset_index()\n",
    "average_first.rename(columns={\"image_id\":\"image_1_id\", \"CDR\":\"CDR_1\"}, inplace=True)\n",
    "average_second = average_classify[average_classify['order'] == \"second\"][['image_id', 'order','CDR']].reset_index()\n",
    "average_second.rename(columns={\"image_id\":\"image_2_id\", \"CDR\":\"CDR_2\"}, inplace=True)\n",
    "average_side_by_side_cdrs = pd.concat([average_first, average_second], axis=1)\n",
    "\n",
    "average_side_by_side_cdrs['CDR_Diff'] = abs(average_side_by_side_cdrs['CDR_1'] - average_side_by_side_cdrs['CDR_2'])\n",
    "#### Wrong BINS BEING CALCULATED!!! sTEVE!!!!!!!!\n",
    "average_side_by_side_cdrs['Choose CDR Desc'] = np.where((average_side_by_side_cdrs['CDR_Diff'] >= 0.0) & (average_side_by_side_cdrs['CDR_Diff'] < 0.15), 'Stable (CDR change 0.0)', \n",
    "                                               np.where((average_side_by_side_cdrs['CDR_Diff'] >= 0.15) & (average_side_by_side_cdrs['CDR_Diff'] < 0.3), 'Mild Progression (CDR change 0.00 - 0.15)', \n",
    "                                                                                                                                                         'Significant Progression (CDR change 0.15 - 0.3)'))\n",
    "average_side_by_side_cdrs.sort_values(['image_1_id', 'image_2_id'], inplace=True)\n",
    "average_side_by_side_cdrs.head(20)"
   ]
  },
  {
   "cell_type": "code",
   "execution_count": null,
   "metadata": {},
   "outputs": [],
   "source": [
    "# Scott's Model OLD\n",
    "# ...pending\n",
    "\n",
    "# Scott's Model NEW\n",
    "# ...pending\n",
    "\n",
    "# EHR\n",
    "# ...pending\n",
    "\n",
    "\n",
    "# Classify\n",
    "average_side_by_side_cdrs\n",
    "\n",
    "# Compare\n",
    "mcnamast_compare = all_compare[all_compare['user'] == 'mcnamast']\n",
    "gdeitz_compare = all_compare[all_compare['user'] == 'gdeitz']\n",
    "swangyu_compare = all_compare[all_compare['user'] == 'swangyu']\n",
    "\n",
    "mcnamast_compare.sort_values(['image_1_id', 'image_2_id'], inplace=True)\n",
    "gdeitz_compare.sort_values(['image_1_id', 'image_2_id'], inplace=True)\n",
    "swangyu_compare.sort_values(['image_1_id', 'image_2_id'], inplace=True)\n",
    "all_compare.sort_values(['image_1_id', 'image_2_id'], inplace=True)\n",
    "\n",
    "# Flicker\n",
    "mcnamast_flicker = all_flicker[all_flicker['user'] == 'mcnamast']\n",
    "gdeitz_flicker = all_flicker[all_flicker['user'] == 'gdeitz']\n",
    "swangyu_flicker = all_flicker[all_flicker['user'] == 'swangyu']\n",
    "\n",
    "mcnamast_flicker.sort_values(['image_1_id', 'image_2_id'], inplace=True)\n",
    "gdeitz_flicker.sort_values(['image_1_id', 'image_2_id'], inplace=True)\n",
    "swangyu_flicker.sort_values(['image_1_id', 'image_2_id'], inplace=True)\n",
    "all_flicker.sort_values(['image_1_id', 'image_2_id'], inplace=True)\n",
    "\n"
   ]
  },
  {
   "cell_type": "code",
   "execution_count": null,
   "metadata": {},
   "outputs": [],
   "source": [
    "mcnamast_compare['Choose CDR Desc']\n",
    "gdeitz_compare['Choose CDR Desc']\n",
    "swangyu_compare['Choose CDR Desc']\n",
    "\n",
    "mcnamast_flicker['Choose CDR Desc']\n",
    "gdeitz_flicker['Choose CDR Desc']\n",
    "swangyu_flicker['Choose CDR Desc']"
   ]
  },
  {
   "cell_type": "code",
   "execution_count": null,
   "metadata": {},
   "outputs": [],
   "source": [
    "def make_confusing(ann1, ann2):\n",
    "    # Create a confusion matrix\n",
    "    cm = confusion_matrix(ann1['data']['Choose CDR Desc'], ann2['data']['Choose CDR Desc'], labels=['Stable (CDR change 0.0)', 'Mild Progression (CDR change 0.00 - 0.15)', 'Significant Progression (CDR change 0.15 - 0.3)'])\n",
    "    # Plot the confusion matrix as a heatmap\n",
    "    plt.figure(figsize=(6, 6))\n",
    "    sns.heatmap(cm, annot=True, fmt='d', cmap='Blues', cbar=False,\n",
    "                xticklabels=['Stable (CDR change 0.0)', 'Mild Progression (CDR change 0.00 - 0.15)', 'Significant Progression (CDR change 0.15 - 0.3)'],\n",
    "                yticklabels=['Stable (CDR change 0.0)', 'Mild Progression (CDR change 0.00 - 0.15)', 'Significant Progression (CDR change 0.15 - 0.3)'])\n",
    "    plt.xlabel(f\"{ann2['ann']} Labels\")\n",
    "    plt.ylabel(f\"{ann1['ann']} Labels\")\n",
    "    plt.title('Confusion Matrix')\n",
    "    plt.show()\n"
   ]
  },
  {
   "cell_type": "code",
   "execution_count": null,
   "metadata": {},
   "outputs": [],
   "source": [
    "ann1 = {\"ann\": \"mcnamara\", \"data\": mcnamast_compare[['image_1_id', 'image_2_id', 'Choose CDR Desc']]}\n",
    "ann2 = {\"ann\": \"gdeitz\", \"data\": gdeitz_compare[['image_1_id', 'image_2_id', 'Choose CDR Desc']]}\n",
    "ann3 = {\"ann\": \"swangyu\", \"data\": swangyu_compare[['image_1_id', 'image_2_id', 'Choose CDR Desc']]}\n",
    "ann4 = {\"ann\": \"average_classify_cdrs\", \"data\": average_side_by_side_cdrs[['image_1_id', 'image_2_id', 'Choose CDR Desc']]}"
   ]
  },
  {
   "cell_type": "code",
   "execution_count": null,
   "metadata": {},
   "outputs": [],
   "source": [
    "make_confusing(ann1, ann2)"
   ]
  },
  {
   "cell_type": "code",
   "execution_count": null,
   "metadata": {},
   "outputs": [],
   "source": [
    "make_confusing(ann1, ann3)"
   ]
  },
  {
   "cell_type": "code",
   "execution_count": null,
   "metadata": {},
   "outputs": [],
   "source": [
    "make_confusing(ann1, ann4)"
   ]
  },
  {
   "cell_type": "code",
   "execution_count": null,
   "metadata": {},
   "outputs": [],
   "source": [
    "make_confusing(ann2, ann3)"
   ]
  },
  {
   "cell_type": "code",
   "execution_count": null,
   "metadata": {},
   "outputs": [],
   "source": [
    "make_confusing(ann2, ann4)"
   ]
  },
  {
   "cell_type": "code",
   "execution_count": null,
   "metadata": {},
   "outputs": [],
   "source": [
    "make_confusing(ann3, ann4)"
   ]
  },
  {
   "cell_type": "code",
   "execution_count": null,
   "metadata": {},
   "outputs": [],
   "source": [
    "ann1 = {\"ann\": \"mcnamara\", \"data\": mcnamast_flicker[['image_1_id', 'image_2_id', 'Choose CDR Desc']]}\n",
    "ann2 = {\"ann\": \"gdeitz\", \"data\": gdeitz_flicker[['image_1_id', 'image_2_id', 'Choose CDR Desc']]}\n",
    "ann3 = {\"ann\": \"swangyu\", \"data\": swangyu_flicker[['image_1_id', 'image_2_id', 'Choose CDR Desc']]}\n",
    "ann4 = {\"ann\": \"average_classify_cdrs\", \"data\": average_side_by_side_cdrs[['image_1_id', 'image_2_id', 'Choose CDR Desc']]}"
   ]
  },
  {
   "cell_type": "code",
   "execution_count": null,
   "metadata": {},
   "outputs": [],
   "source": [
    "make_confusing(ann1, ann2)"
   ]
  },
  {
   "cell_type": "code",
   "execution_count": null,
   "metadata": {},
   "outputs": [],
   "source": [
    "make_confusing(ann1, ann3)"
   ]
  },
  {
   "cell_type": "code",
   "execution_count": null,
   "metadata": {},
   "outputs": [],
   "source": [
    "make_confusing(ann1, ann4)"
   ]
  },
  {
   "cell_type": "code",
   "execution_count": null,
   "metadata": {},
   "outputs": [],
   "source": [
    "make_confusing(ann2, ann3)"
   ]
  },
  {
   "cell_type": "code",
   "execution_count": null,
   "metadata": {},
   "outputs": [],
   "source": [
    "make_confusing(ann2, ann4)"
   ]
  },
  {
   "cell_type": "code",
   "execution_count": null,
   "metadata": {},
   "outputs": [],
   "source": [
    "make_confusing(ann3, ann4)"
   ]
  },
  {
   "cell_type": "markdown",
   "metadata": {},
   "source": [
    "### Boxes"
   ]
  },
  {
   "cell_type": "code",
   "execution_count": null,
   "metadata": {},
   "outputs": [],
   "source": [
    "\n",
    "def plot_annotator_bar_plot(compare, flicker, annotator=\"\"):\n",
    "    data = pd.DataFrame({\n",
    "        \"Choose CDR Desc\": list(compare['Choose CDR Desc']) + list(flicker['Choose CDR Desc']),\n",
    "        \"app\": [\"compare\"]*len(compare[['taskid','Choose CDR Desc']]) + [\"flicker\"]*len(flicker[['taskid','Choose CDR Desc']])\n",
    "    })\n",
    "\n",
    "    # Create a countplot\n",
    "    sns.set(style=\"whitegrid\")\n",
    "    ax = sns.countplot(data=data, x='Choose CDR Desc', hue='app')\n",
    "\n",
    "\n",
    "    # Customize the plot\n",
    "    plt.xlabel('Category')\n",
    "    plt.ylabel('Count')\n",
    "    plt.title(f\"Annotator {annotator} Bar Chart with 3 Categories, Compare v Flicker\")\n",
    "    plt.legend(title='Source')\n",
    "\n",
    "    # Rotate x-axis labels\n",
    "    ax.set_xticklabels(ax.get_xticklabels(), rotation=45)  # Adjust the rotation angle as needed\n",
    "\n",
    "    # Show the plot\n",
    "    plt.show()\n"
   ]
  },
  {
   "cell_type": "code",
   "execution_count": null,
   "metadata": {},
   "outputs": [],
   "source": [
    "plot_annotator_bar_plot(mcnamast_compare, mcnamast_flicker, annotator=\"mcnamast\")"
   ]
  },
  {
   "cell_type": "code",
   "execution_count": null,
   "metadata": {},
   "outputs": [],
   "source": [
    "plot_annotator_bar_plot(gdeitz_compare, gdeitz_flicker, annotator=\"gdeitz\")"
   ]
  },
  {
   "cell_type": "code",
   "execution_count": null,
   "metadata": {},
   "outputs": [],
   "source": [
    "plot_annotator_bar_plot(swangyu_compare, swangyu_flicker, annotator=\"swangyu\")"
   ]
  },
  {
   "cell_type": "code",
   "execution_count": null,
   "metadata": {},
   "outputs": [],
   "source": [
    "plot_annotator_bar_plot(all_compare, all_flicker, annotator=\"all\")"
   ]
  },
  {
   "cell_type": "code",
   "execution_count": null,
   "metadata": {},
   "outputs": [],
   "source": []
  }
 ],
 "metadata": {
  "kernelspec": {
   "display_name": "imageComparatorAnalysis",
   "language": "python",
   "name": "python3"
  },
  "language_info": {
   "codemirror_mode": {
    "name": "ipython",
    "version": 3
   },
   "file_extension": ".py",
   "mimetype": "text/x-python",
   "name": "python",
   "nbconvert_exporter": "python",
   "pygments_lexer": "ipython3",
   "version": "3.10.4"
  }
 },
 "nbformat": 4,
 "nbformat_minor": 2
}
