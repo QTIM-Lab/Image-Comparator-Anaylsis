{
 "cells": [
  {
   "cell_type": "code",
   "execution_count": 1,
   "metadata": {},
   "outputs": [
    {
     "name": "stdout",
     "output_type": "stream",
     "text": [
      "/home/bearceb/Image-Comparator-Anaylsis/analysis\n",
      "\n",
      "DATA_DIR: \n",
      "PROJECT_DIR: /sddata/app_or_generated_data/Image-Comparator-Analysis/analysis/flicker_abstract_results_12_07_2023\n",
      "PROJECT_INPUT_DATA_DIR: /sddata/app_or_generated_data/Image-Comparator-Analysis/raw_annotations/arvo_abstract_flicker_12_06_2023\n",
      "DNS: qtimview.southcentralus.cloudapp.azure.com\n",
      "IMAGES_DB: image_comparator\n",
      "DB_PORT: 5984\n",
      "DB_ADMIN_USER: admin\n",
      "DB_ADMIN_PASS: los_gehts\n",
      "ADMIN_PARTY: False\n",
      "\n"
     ]
    }
   ],
   "source": [
    "import os, pandas as pd, numpy as np, seaborn as sns\n",
    "\n",
    "pd.set_option('display.max_columns', 50) # How many to show\n",
    "pd.set_option('display.min_rows', 25) # How many to show\n",
    "pd.set_option('display.max_rows', 25) # How many to show\n",
    "pd.set_option('display.width', 1000) # How far across the screen\n",
    "pd.set_option('display.max_colwidth', 100) # Column width in px\n",
    "pd.set_option('expand_frame_repr', True) # allows for the representation of dataframes to stretch across pages, wrapped over the full column vs row-wise\n",
    "\n",
    "from matplotlib import pyplot as plt \n",
    "from sklearn.metrics import confusion_matrix\n",
    "from dotenv import load_dotenv\n",
    "print(os.getcwd())\n",
    "\n",
    "# Optional below\n",
    "\n",
    "load_dotenv('../.env_analysis')\n",
    "\n",
    "### If all else fails\n",
    "# PROJECT_INPUT_DATA_DIR=\"/sddata/app_or_generated_data/Image-Comparator-Analysis/raw_annotations/arvo_abstract_flicker_12_06_2023\n",
    "# PROJECT_DIR=\"/sddata/app_or_generated_data/Image-Comparator-Analysis/analysis/flicker_abstract_results_12_07_2023\n",
    "\n",
    "DATA_DIR=os.environ[\"DATA_DIR\"]\n",
    "PROJECT_DIR=os.environ[\"PROJECT_DIR\"]\n",
    "PROJECT_INPUT_DATA_DIR=os.environ[\"PROJECT_INPUT_DATA_DIR\"]\n",
    "DNS=os.environ[\"DNS\"]\n",
    "IMAGES_DB=os.environ[\"IMAGES_DB\"]\n",
    "DB_PORT=os.environ[\"DB_PORT\"]\n",
    "DB_ADMIN_USER=os.environ[\"DB_ADMIN_USER\"]\n",
    "DB_ADMIN_PASS=os.environ[\"DB_ADMIN_PASS\"]\n",
    "ADMIN_PARTY=True if os.environ[\"ADMIN_PARTY\"] == 'True' else False\n",
    "\n",
    "print(f\"\"\"\n",
    "DATA_DIR: {DATA_DIR}\n",
    "PROJECT_DIR: {PROJECT_DIR}\n",
    "PROJECT_INPUT_DATA_DIR: {PROJECT_INPUT_DATA_DIR}\n",
    "DNS: {DNS}\n",
    "IMAGES_DB: {IMAGES_DB}\n",
    "DB_PORT: {DB_PORT}\n",
    "DB_ADMIN_USER: {DB_ADMIN_USER}\n",
    "DB_ADMIN_PASS: {DB_ADMIN_PASS}\n",
    "ADMIN_PARTY: {ADMIN_PARTY}\n",
    "\"\"\")\n",
    "\n"
   ]
  },
  {
   "cell_type": "markdown",
   "metadata": {},
   "source": [
    "Read in everyone's annotations:"
   ]
  },
  {
   "cell_type": "code",
   "execution_count": 2,
   "metadata": {},
   "outputs": [],
   "source": [
    "# image key\n",
    "image_key = pd.read_csv(os.path.join(PROJECT_INPUT_DATA_DIR, \"app_image_key.csv\"))\n",
    "image_key.sort_values('index', inplace=True)\n",
    "image_key['image_id'] = image_key['relative_path'] + \"_\" + image_key['image']\n",
    "\n",
    "# Scott's Model and EHR\n",
    "flicker_registered_stable = pd.read_csv(os.path.join(PROJECT_INPUT_DATA_DIR, \"flicker_registered_stable.csv\"))\n",
    "flicker_registered_stable.rename(columns={\"fixed_img_path\":\"image_1_id\", \"moving_img_path\":\"image_2_id\"}, inplace=True)\n",
    "\n",
    "EHR_stable = flicker_registered_stable.loc[:,[\"image_1_id\",\"image_2_id\",\"gt_cdr_before\",\"gt_cdr_after\"]]; EHR_stable.rename(columns={\"gt_cdr_before\":\"CDR_1\",\"gt_cdr_after\":\"CDR_2\"}, inplace=True)\n",
    "Segformer_stable = flicker_registered_stable.loc[:,[\"image_1_id\",\"image_2_id\",\"pred_cdr_before\",\"pred_cdr_after\"]]; Segformer_stable.rename(columns={\"gt_cdr_before\":\"CDR_1\",\"gt_cdr_after\":\"CDR_2\"}, inplace=True)\n",
    "\n",
    "flicker_registered_mild_prog = pd.read_csv(os.path.join(PROJECT_INPUT_DATA_DIR, \"flicker_registered_mild_prog.csv\"))\n",
    "flicker_registered_mild_prog.rename(columns={\"fixed_img_path\":\"image_1_id\", \"moving_img_path\":\"image_2_id\"}, inplace=True)\n",
    "\n",
    "EHR_mild_prog = flicker_registered_mild_prog.loc[:,[\"image_1_id\",\"image_2_id\",\"gt_cdr_before\",\"gt_cdr_after\"]]; EHR_mild_prog.rename(columns={\"gt_cdr_before\":\"CDR_1\",\"gt_cdr_after\":\"CDR_2\"}, inplace=True)\n",
    "Segformer_mild_prog = flicker_registered_mild_prog.loc[:,[\"image_1_id\",\"image_2_id\",\"pred_cdr_before\",\"pred_cdr_after\"]]; Segformer_mild_prog.rename(columns={\"gt_cdr_before\":\"CDR_1\",\"gt_cdr_after\":\"CDR_2\"}, inplace=True)\n",
    "\n",
    "flicker_registered_sig_prog = pd.read_csv(os.path.join(PROJECT_INPUT_DATA_DIR, \"flicker_registered_sig_prog.csv\"))\n",
    "flicker_registered_sig_prog.rename(columns={\"fixed_img_path\":\"image_1_id\", \"moving_img_path\":\"image_2_id\"}, inplace=True)\n",
    "\n",
    "EHR_sig_prog = flicker_registered_sig_prog.loc[:,[\"image_1_id\",\"image_2_id\",\"gt_cdr_before\",\"gt_cdr_after\"]]; EHR_sig_prog.rename(columns={\"gt_cdr_before\":\"CDR_1\",\"gt_cdr_after\":\"CDR_2\"}, inplace=True)\n",
    "Segformer_sig_prog = flicker_registered_sig_prog.loc[:,[\"image_1_id\",\"image_2_id\",\"pred_cdr_before\",\"pred_cdr_after\"]]; Segformer_sig_prog.rename(columns={\"gt_cdr_before\":\"CDR_1\",\"gt_cdr_after\":\"CDR_2\"}, inplace=True)\n",
    "\n",
    "\n",
    "# classify\n",
    "all_classify = pd.read_csv(os.path.join(PROJECT_INPUT_DATA_DIR, \"all-v2_12_1_23-classify-0.csv\"))\n",
    "all_classify = pd.merge(image_key, all_classify, on=\"image_id\")\n",
    "all_classify.rename(columns={\"Image\":\"CDR\"}, inplace=True)\n",
    "\n",
    "# compare\n",
    "all_compare = pd.read_csv(os.path.join(PROJECT_INPUT_DATA_DIR, \"all-v2_12_1_23-compare-0.csv\"))\n",
    "# flicker\n",
    "all_flicker = pd.read_csv(os.path.join(PROJECT_INPUT_DATA_DIR, \"all-v2_12_1_23-flicker-0.csv\"))\n"
   ]
  },
  {
   "cell_type": "markdown",
   "metadata": {},
   "source": [
    "## Stats to perform, maybe???"
   ]
  },
  {
   "cell_type": "markdown",
   "metadata": {},
   "source": [
    "[*] Interater variability - raw CDR\n",
    "  - Avg CDR by image even though there are 2 time points\n",
    "  - Get each persons Estimated CDR by these images\n",
    "  - plot is x-axis is average, and y-axis is estimated.\n",
    "    * there might be images where avg was same value, this will allow for multiple estimated CDRs by person to show up on this average\n",
    "  - Plot raters against each other\n",
    "    * \n",
    "\n",
    "\n",
    "[] Rater v Scott's Model\n",
    "  - 3 plots\n",
    "\n",
    "[] Bar plots for each rater showing counts for categories of radio buttons\n",
    "  - 3 plots\n"
   ]
  },
  {
   "cell_type": "markdown",
   "metadata": {},
   "source": [
    "### Interater Variability"
   ]
  },
  {
   "cell_type": "markdown",
   "metadata": {},
   "source": [
    "#### Expected v Average"
   ]
  },
  {
   "cell_type": "code",
   "execution_count": 3,
   "metadata": {},
   "outputs": [],
   "source": [
    "mcnamast_classify = all_classify[all_classify['user'] == 'mcnamast']\n",
    "gdeitz_classify = all_classify[all_classify['user'] == 'gdeitz']\n",
    "swangyu_classify = all_classify[all_classify['user'] == 'swangyu']"
   ]
  },
  {
   "cell_type": "code",
   "execution_count": 4,
   "metadata": {},
   "outputs": [
    {
     "data": {
      "text/html": [
       "<div>\n",
       "<style scoped>\n",
       "    .dataframe tbody tr th:only-of-type {\n",
       "        vertical-align: middle;\n",
       "    }\n",
       "\n",
       "    .dataframe tbody tr th {\n",
       "        vertical-align: top;\n",
       "    }\n",
       "\n",
       "    .dataframe thead th {\n",
       "        text-align: right;\n",
       "    }\n",
       "</style>\n",
       "<table border=\"1\" class=\"dataframe\">\n",
       "  <thead>\n",
       "    <tr style=\"text-align: right;\">\n",
       "      <th></th>\n",
       "      <th>index</th>\n",
       "      <th>image_1_id</th>\n",
       "      <th>order</th>\n",
       "      <th>CDR_1</th>\n",
       "      <th>index</th>\n",
       "      <th>image_2_id</th>\n",
       "      <th>order</th>\n",
       "      <th>CDR_2</th>\n",
       "      <th>CDR_Diff</th>\n",
       "      <th>Choose CDR Desc</th>\n",
       "    </tr>\n",
       "  </thead>\n",
       "  <tbody>\n",
       "    <tr>\n",
       "      <th>9</th>\n",
       "      <td>18</td>\n",
       "      <td>flicker_fixed_mild_prog_114_axis01_4599_135545_201609270751548463477a72bf9c98b0d.png</td>\n",
       "      <td>first</td>\n",
       "      <td>0.733333</td>\n",
       "      <td>19</td>\n",
       "      <td>flicker_registered_mild_prog_114_axis01_4599_176138_20170801082050794841bb85d7af2dc3d.png</td>\n",
       "      <td>second</td>\n",
       "      <td>0.783333</td>\n",
       "      <td>0.050000</td>\n",
       "      <td>Stable (CDR change 0.0)</td>\n",
       "    </tr>\n",
       "    <tr>\n",
       "      <th>10</th>\n",
       "      <td>20</td>\n",
       "      <td>flicker_fixed_mild_prog_165_AxisUCH01_1408_65191_201410011051205404475cfbcfb7b7bab.png</td>\n",
       "      <td>first</td>\n",
       "      <td>0.816667</td>\n",
       "      <td>21</td>\n",
       "      <td>flicker_registered_mild_prog_165_axis01_1408_177921_2017081410190623452146c7827787b94.png</td>\n",
       "      <td>second</td>\n",
       "      <td>0.850000</td>\n",
       "      <td>0.033333</td>\n",
       "      <td>Stable (CDR change 0.0)</td>\n",
       "    </tr>\n",
       "    <tr>\n",
       "      <th>11</th>\n",
       "      <td>22</td>\n",
       "      <td>flicker_fixed_mild_prog_167_axis01_5625_157069_20170316094631023fc5dcae4ccac68ac.png</td>\n",
       "      <td>first</td>\n",
       "      <td>0.500000</td>\n",
       "      <td>23</td>\n",
       "      <td>flicker_registered_mild_prog_167_axis01_5625_221919_20180516140226073259923afc19e706f.png</td>\n",
       "      <td>second</td>\n",
       "      <td>0.550000</td>\n",
       "      <td>0.050000</td>\n",
       "      <td>Stable (CDR change 0.0)</td>\n",
       "    </tr>\n",
       "    <tr>\n",
       "      <th>12</th>\n",
       "      <td>24</td>\n",
       "      <td>flicker_fixed_mild_prog_30_AxisUCH01_3790_60863_20140807095603288acddf6fac0b5fe9f.png</td>\n",
       "      <td>first</td>\n",
       "      <td>0.433333</td>\n",
       "      <td>25</td>\n",
       "      <td>flicker_registered_mild_prog_30_axis01_3790_247983_20181017100434810fb5b2b31c1ec0d3d.png</td>\n",
       "      <td>second</td>\n",
       "      <td>0.400000</td>\n",
       "      <td>0.033333</td>\n",
       "      <td>Stable (CDR change 0.0)</td>\n",
       "    </tr>\n",
       "    <tr>\n",
       "      <th>13</th>\n",
       "      <td>26</td>\n",
       "      <td>flicker_fixed_mild_prog_33_axis01_4536_144180_20161206122652531e26dbea745d021c0.png</td>\n",
       "      <td>first</td>\n",
       "      <td>0.350000</td>\n",
       "      <td>27</td>\n",
       "      <td>flicker_registered_mild_prog_33_axis01_4536_302388_201909031213598075f2f7044110594e4.png</td>\n",
       "      <td>second</td>\n",
       "      <td>0.333333</td>\n",
       "      <td>0.016667</td>\n",
       "      <td>Stable (CDR change 0.0)</td>\n",
       "    </tr>\n",
       "    <tr>\n",
       "      <th>14</th>\n",
       "      <td>28</td>\n",
       "      <td>flicker_fixed_mild_prog_59_axis01_4620_151518_201702060823050644033effe232a7d4c.png</td>\n",
       "      <td>first</td>\n",
       "      <td>0.750000</td>\n",
       "      <td>29</td>\n",
       "      <td>flicker_registered_mild_prog_59_axis01_4620_305069_201909180810530999f806b8316a4c828.png</td>\n",
       "      <td>second</td>\n",
       "      <td>0.866667</td>\n",
       "      <td>0.116667</td>\n",
       "      <td>Stable (CDR change 0.0)</td>\n",
       "    </tr>\n",
       "    <tr>\n",
       "      <th>15</th>\n",
       "      <td>30</td>\n",
       "      <td>flicker_fixed_mild_prog_77_axis01_5113_273735_20190402145357881bd4832a2c597b0e7.png</td>\n",
       "      <td>first</td>\n",
       "      <td>0.416667</td>\n",
       "      <td>31</td>\n",
       "      <td>flicker_registered_mild_prog_77_axis01_5113_498891_202203290829092827f527de51b02ec5f.png</td>\n",
       "      <td>second</td>\n",
       "      <td>0.466667</td>\n",
       "      <td>0.050000</td>\n",
       "      <td>Stable (CDR change 0.0)</td>\n",
       "    </tr>\n",
       "    <tr>\n",
       "      <th>16</th>\n",
       "      <td>32</td>\n",
       "      <td>flicker_fixed_sig_prog_162_axis01_2866_171276_2017062615213178815a66ae03faaf28d.png</td>\n",
       "      <td>first</td>\n",
       "      <td>0.683333</td>\n",
       "      <td>33</td>\n",
       "      <td>flicker_registered_sig_prog_162_axis01_2866_335801_2020021012593587987f93b29a2e5499d.png</td>\n",
       "      <td>second</td>\n",
       "      <td>0.783333</td>\n",
       "      <td>0.100000</td>\n",
       "      <td>Stable (CDR change 0.0)</td>\n",
       "    </tr>\n",
       "    <tr>\n",
       "      <th>17</th>\n",
       "      <td>34</td>\n",
       "      <td>flicker_fixed_sig_prog_179_axis01_20230_268248_20190225144408224c258630c3d9dcc20.png</td>\n",
       "      <td>first</td>\n",
       "      <td>0.600000</td>\n",
       "      <td>35</td>\n",
       "      <td>flicker_registered_sig_prog_179_axis01_20230_362732_202008031448111427df1caa86dc69943.png</td>\n",
       "      <td>second</td>\n",
       "      <td>0.666667</td>\n",
       "      <td>0.066667</td>\n",
       "      <td>Stable (CDR change 0.0)</td>\n",
       "    </tr>\n",
       "    <tr>\n",
       "      <th>18</th>\n",
       "      <td>36</td>\n",
       "      <td>flicker_fixed_sig_prog_194_axis01_139_176697_20170803100030756108b1c779df62e44.png</td>\n",
       "      <td>first</td>\n",
       "      <td>0.633333</td>\n",
       "      <td>37</td>\n",
       "      <td>flicker_registered_sig_prog_194_axis01_139_267787_201902211045395228841e4b3105c349b.png</td>\n",
       "      <td>second</td>\n",
       "      <td>0.450000</td>\n",
       "      <td>0.183333</td>\n",
       "      <td>Mild Progression (CDR change 0.00 - 0.15)</td>\n",
       "    </tr>\n",
       "    <tr>\n",
       "      <th>19</th>\n",
       "      <td>38</td>\n",
       "      <td>flicker_fixed_sig_prog_91_axis01_2267_370406_20200831135517452fd231dde2de42fb.png</td>\n",
       "      <td>first</td>\n",
       "      <td>0.500000</td>\n",
       "      <td>39</td>\n",
       "      <td>flicker_registered_sig_prog_91_axis01_2267_455255_202109131447173038956edbae4a477ee.png</td>\n",
       "      <td>second</td>\n",
       "      <td>0.666667</td>\n",
       "      <td>0.166667</td>\n",
       "      <td>Mild Progression (CDR change 0.00 - 0.15)</td>\n",
       "    </tr>\n",
       "    <tr>\n",
       "      <th>0</th>\n",
       "      <td>0</td>\n",
       "      <td>flicker_fixed_stable_15_AxisUCH01_21895_122036_201606020925594855a808b9fe6e2c7d1.png</td>\n",
       "      <td>first</td>\n",
       "      <td>0.583333</td>\n",
       "      <td>1</td>\n",
       "      <td>flicker_registered_stable_15_axis01_21895_267124_20190218145751564eb3215afc5be5ec5.png</td>\n",
       "      <td>second</td>\n",
       "      <td>0.633333</td>\n",
       "      <td>0.050000</td>\n",
       "      <td>Stable (CDR change 0.0)</td>\n",
       "    </tr>\n",
       "    <tr>\n",
       "      <th>1</th>\n",
       "      <td>2</td>\n",
       "      <td>flicker_fixed_stable_22_axis01_6928_336177_2020021113040184365e497d457b487b6.png</td>\n",
       "      <td>first</td>\n",
       "      <td>0.600000</td>\n",
       "      <td>3</td>\n",
       "      <td>flicker_registered_stable_22_axis01_6928_404247_202102091241276514430ea3e555187cb.png</td>\n",
       "      <td>second</td>\n",
       "      <td>0.533333</td>\n",
       "      <td>0.066667</td>\n",
       "      <td>Stable (CDR change 0.0)</td>\n",
       "    </tr>\n",
       "    <tr>\n",
       "      <th>2</th>\n",
       "      <td>4</td>\n",
       "      <td>flicker_fixed_stable_37_axis01_17556_354182_202006240922059898752a70267f8257b.png</td>\n",
       "      <td>first</td>\n",
       "      <td>0.533333</td>\n",
       "      <td>5</td>\n",
       "      <td>flicker_registered_stable_37_axis01_17556_523032_2022061308430194787d60dcaeb7e61fd.png</td>\n",
       "      <td>second</td>\n",
       "      <td>0.516667</td>\n",
       "      <td>0.016667</td>\n",
       "      <td>Stable (CDR change 0.0)</td>\n",
       "    </tr>\n",
       "    <tr>\n",
       "      <th>3</th>\n",
       "      <td>6</td>\n",
       "      <td>flicker_fixed_stable_39_AxisUCH01_7334_92512_20150818134833696e8cdd14dc086ad49.png</td>\n",
       "      <td>first</td>\n",
       "      <td>0.433333</td>\n",
       "      <td>7</td>\n",
       "      <td>flicker_registered_stable_39_axis01_7334_131039_201608191044459323e52bbb8c05792bb.png</td>\n",
       "      <td>second</td>\n",
       "      <td>0.366667</td>\n",
       "      <td>0.066667</td>\n",
       "      <td>Stable (CDR change 0.0)</td>\n",
       "    </tr>\n",
       "    <tr>\n",
       "      <th>4</th>\n",
       "      <td>8</td>\n",
       "      <td>flicker_fixed_stable_41_AxisUCH01_13913_62369_20140826141126018bd454c2f40ab9f8a.png</td>\n",
       "      <td>first</td>\n",
       "      <td>0.900000</td>\n",
       "      <td>9</td>\n",
       "      <td>flicker_registered_stable_41_AxisUCH01_13913_114265_20160329100750254e24e5fba17cee67f.png</td>\n",
       "      <td>second</td>\n",
       "      <td>0.883333</td>\n",
       "      <td>0.016667</td>\n",
       "      <td>Stable (CDR change 0.0)</td>\n",
       "    </tr>\n",
       "    <tr>\n",
       "      <th>5</th>\n",
       "      <td>10</td>\n",
       "      <td>flicker_fixed_stable_43_AxisUCH01_8699_48272_2014022115003623187d0dcd0c1b6580c.png</td>\n",
       "      <td>first</td>\n",
       "      <td>0.566667</td>\n",
       "      <td>11</td>\n",
       "      <td>flicker_registered_stable_43_AxisUCH01_8699_73151_201501081251578185ef223e757a88d62.png</td>\n",
       "      <td>second</td>\n",
       "      <td>0.566667</td>\n",
       "      <td>0.000000</td>\n",
       "      <td>Stable (CDR change 0.0)</td>\n",
       "    </tr>\n",
       "    <tr>\n",
       "      <th>6</th>\n",
       "      <td>12</td>\n",
       "      <td>flicker_fixed_stable_46_axis01_2848_244351_201809251109366519202c5a34500c168.png</td>\n",
       "      <td>first</td>\n",
       "      <td>0.483333</td>\n",
       "      <td>13</td>\n",
       "      <td>flicker_registered_stable_46_axis01_2848_302382_2019090311402518475170f6f17ceae9a.png</td>\n",
       "      <td>second</td>\n",
       "      <td>0.466667</td>\n",
       "      <td>0.016667</td>\n",
       "      <td>Stable (CDR change 0.0)</td>\n",
       "    </tr>\n",
       "    <tr>\n",
       "      <th>7</th>\n",
       "      <td>14</td>\n",
       "      <td>flicker_fixed_stable_54_axis01_32704_272872_20190326145003088c8fdebee37a7ac0d.png</td>\n",
       "      <td>first</td>\n",
       "      <td>0.450000</td>\n",
       "      <td>15</td>\n",
       "      <td>flicker_registered_stable_54_axis01_32704_348630_202006021129490808d62ab12a2d9106.png</td>\n",
       "      <td>second</td>\n",
       "      <td>0.516667</td>\n",
       "      <td>0.066667</td>\n",
       "      <td>Stable (CDR change 0.0)</td>\n",
       "    </tr>\n",
       "    <tr>\n",
       "      <th>8</th>\n",
       "      <td>16</td>\n",
       "      <td>flicker_fixed_stable_63_AxisUCH01_16152_87352_201506231000441254e31d1ecbb62f319.png</td>\n",
       "      <td>first</td>\n",
       "      <td>0.566667</td>\n",
       "      <td>17</td>\n",
       "      <td>flicker_registered_stable_63_AxisUCH01_16152_104904_20151229102340646da4bdf02ccda3d7c.png</td>\n",
       "      <td>second</td>\n",
       "      <td>0.566667</td>\n",
       "      <td>0.000000</td>\n",
       "      <td>Stable (CDR change 0.0)</td>\n",
       "    </tr>\n",
       "  </tbody>\n",
       "</table>\n",
       "</div>"
      ],
      "text/plain": [
       "    index                                                                              image_1_id  order     CDR_1  index                                                                                 image_2_id   order     CDR_2  CDR_Diff                            Choose CDR Desc\n",
       "9      18    flicker_fixed_mild_prog_114_axis01_4599_135545_201609270751548463477a72bf9c98b0d.png  first  0.733333     19  flicker_registered_mild_prog_114_axis01_4599_176138_20170801082050794841bb85d7af2dc3d.png  second  0.783333  0.050000                    Stable (CDR change 0.0)\n",
       "10     20  flicker_fixed_mild_prog_165_AxisUCH01_1408_65191_201410011051205404475cfbcfb7b7bab.png  first  0.816667     21  flicker_registered_mild_prog_165_axis01_1408_177921_2017081410190623452146c7827787b94.png  second  0.850000  0.033333                    Stable (CDR change 0.0)\n",
       "11     22    flicker_fixed_mild_prog_167_axis01_5625_157069_20170316094631023fc5dcae4ccac68ac.png  first  0.500000     23  flicker_registered_mild_prog_167_axis01_5625_221919_20180516140226073259923afc19e706f.png  second  0.550000  0.050000                    Stable (CDR change 0.0)\n",
       "12     24   flicker_fixed_mild_prog_30_AxisUCH01_3790_60863_20140807095603288acddf6fac0b5fe9f.png  first  0.433333     25   flicker_registered_mild_prog_30_axis01_3790_247983_20181017100434810fb5b2b31c1ec0d3d.png  second  0.400000  0.033333                    Stable (CDR change 0.0)\n",
       "13     26     flicker_fixed_mild_prog_33_axis01_4536_144180_20161206122652531e26dbea745d021c0.png  first  0.350000     27   flicker_registered_mild_prog_33_axis01_4536_302388_201909031213598075f2f7044110594e4.png  second  0.333333  0.016667                    Stable (CDR change 0.0)\n",
       "14     28     flicker_fixed_mild_prog_59_axis01_4620_151518_201702060823050644033effe232a7d4c.png  first  0.750000     29   flicker_registered_mild_prog_59_axis01_4620_305069_201909180810530999f806b8316a4c828.png  second  0.866667  0.116667                    Stable (CDR change 0.0)\n",
       "15     30     flicker_fixed_mild_prog_77_axis01_5113_273735_20190402145357881bd4832a2c597b0e7.png  first  0.416667     31   flicker_registered_mild_prog_77_axis01_5113_498891_202203290829092827f527de51b02ec5f.png  second  0.466667  0.050000                    Stable (CDR change 0.0)\n",
       "16     32     flicker_fixed_sig_prog_162_axis01_2866_171276_2017062615213178815a66ae03faaf28d.png  first  0.683333     33   flicker_registered_sig_prog_162_axis01_2866_335801_2020021012593587987f93b29a2e5499d.png  second  0.783333  0.100000                    Stable (CDR change 0.0)\n",
       "17     34    flicker_fixed_sig_prog_179_axis01_20230_268248_20190225144408224c258630c3d9dcc20.png  first  0.600000     35  flicker_registered_sig_prog_179_axis01_20230_362732_202008031448111427df1caa86dc69943.png  second  0.666667  0.066667                    Stable (CDR change 0.0)\n",
       "18     36      flicker_fixed_sig_prog_194_axis01_139_176697_20170803100030756108b1c779df62e44.png  first  0.633333     37    flicker_registered_sig_prog_194_axis01_139_267787_201902211045395228841e4b3105c349b.png  second  0.450000  0.183333  Mild Progression (CDR change 0.00 - 0.15)\n",
       "19     38       flicker_fixed_sig_prog_91_axis01_2267_370406_20200831135517452fd231dde2de42fb.png  first  0.500000     39    flicker_registered_sig_prog_91_axis01_2267_455255_202109131447173038956edbae4a477ee.png  second  0.666667  0.166667  Mild Progression (CDR change 0.00 - 0.15)\n",
       "0       0    flicker_fixed_stable_15_AxisUCH01_21895_122036_201606020925594855a808b9fe6e2c7d1.png  first  0.583333      1     flicker_registered_stable_15_axis01_21895_267124_20190218145751564eb3215afc5be5ec5.png  second  0.633333  0.050000                    Stable (CDR change 0.0)\n",
       "1       2        flicker_fixed_stable_22_axis01_6928_336177_2020021113040184365e497d457b487b6.png  first  0.600000      3      flicker_registered_stable_22_axis01_6928_404247_202102091241276514430ea3e555187cb.png  second  0.533333  0.066667                    Stable (CDR change 0.0)\n",
       "2       4       flicker_fixed_stable_37_axis01_17556_354182_202006240922059898752a70267f8257b.png  first  0.533333      5     flicker_registered_stable_37_axis01_17556_523032_2022061308430194787d60dcaeb7e61fd.png  second  0.516667  0.016667                    Stable (CDR change 0.0)\n",
       "3       6      flicker_fixed_stable_39_AxisUCH01_7334_92512_20150818134833696e8cdd14dc086ad49.png  first  0.433333      7      flicker_registered_stable_39_axis01_7334_131039_201608191044459323e52bbb8c05792bb.png  second  0.366667  0.066667                    Stable (CDR change 0.0)\n",
       "4       8     flicker_fixed_stable_41_AxisUCH01_13913_62369_20140826141126018bd454c2f40ab9f8a.png  first  0.900000      9  flicker_registered_stable_41_AxisUCH01_13913_114265_20160329100750254e24e5fba17cee67f.png  second  0.883333  0.016667                    Stable (CDR change 0.0)\n",
       "5      10      flicker_fixed_stable_43_AxisUCH01_8699_48272_2014022115003623187d0dcd0c1b6580c.png  first  0.566667     11    flicker_registered_stable_43_AxisUCH01_8699_73151_201501081251578185ef223e757a88d62.png  second  0.566667  0.000000                    Stable (CDR change 0.0)\n",
       "6      12        flicker_fixed_stable_46_axis01_2848_244351_201809251109366519202c5a34500c168.png  first  0.483333     13      flicker_registered_stable_46_axis01_2848_302382_2019090311402518475170f6f17ceae9a.png  second  0.466667  0.016667                    Stable (CDR change 0.0)\n",
       "7      14       flicker_fixed_stable_54_axis01_32704_272872_20190326145003088c8fdebee37a7ac0d.png  first  0.450000     15      flicker_registered_stable_54_axis01_32704_348630_202006021129490808d62ab12a2d9106.png  second  0.516667  0.066667                    Stable (CDR change 0.0)\n",
       "8      16     flicker_fixed_stable_63_AxisUCH01_16152_87352_201506231000441254e31d1ecbb62f319.png  first  0.566667     17  flicker_registered_stable_63_AxisUCH01_16152_104904_20151229102340646da4bdf02ccda3d7c.png  second  0.566667  0.000000                    Stable (CDR change 0.0)"
      ]
     },
     "execution_count": 4,
     "metadata": {},
     "output_type": "execute_result"
    }
   ],
   "source": [
    "# Compare Bins Created from Classify\n",
    "average_classify = all_classify.groupby('image_id').mean(\"CDR\"); average_classify.reset_index(inplace=True)\n",
    "average_classify = pd.merge(image_key, average_classify, on=\"image_id\")[[\"image_id\",\"order\",\"CDR\"]]\n",
    "\n",
    "average_first = average_classify[average_classify['order'] == \"first\"][['image_id', 'order','CDR']].reset_index()\n",
    "average_first.rename(columns={\"image_id\":\"image_1_id\", \"CDR\":\"CDR_1\"}, inplace=True)\n",
    "average_second = average_classify[average_classify['order'] == \"second\"][['image_id', 'order','CDR']].reset_index()\n",
    "average_second.rename(columns={\"image_id\":\"image_2_id\", \"CDR\":\"CDR_2\"}, inplace=True)\n",
    "average_side_by_side_cdrs = pd.concat([average_first, average_second], axis=1)\n",
    "\n",
    "average_side_by_side_cdrs['CDR_Diff'] = abs(average_side_by_side_cdrs['CDR_1'] - average_side_by_side_cdrs['CDR_2'])\n",
    "#### Wrong BINS BEING CALCULATED!!! sTEVE!!!!!!!!\n",
    "average_side_by_side_cdrs['Choose CDR Desc'] = np.where((average_side_by_side_cdrs['CDR_Diff'] >= 0.0) & (average_side_by_side_cdrs['CDR_Diff'] < 0.15), 'Stable (CDR change 0.0)', \n",
    "                                               np.where((average_side_by_side_cdrs['CDR_Diff'] >= 0.15) & (average_side_by_side_cdrs['CDR_Diff'] < 0.3), 'Mild Progression (CDR change 0.00 - 0.15)', \n",
    "                                                                                                                                                         'Significant Progression (CDR change 0.15 - 0.3)'))\n",
    "average_side_by_side_cdrs.sort_values(['image_1_id', 'image_2_id'], inplace=True)\n",
    "average_side_by_side_cdrs.head(20)"
   ]
  },
  {
   "cell_type": "code",
   "execution_count": 5,
   "metadata": {},
   "outputs": [
    {
     "name": "stdout",
     "output_type": "stream",
     "text": [
      "\n",
      "shapes:\n",
      "mcnamast: (40, 13) \n",
      "gdeitz: (40, 13) \n",
      "swangyu: (40, 13)\n",
      "average: (40, 3)\n",
      "scotts_segformer:  #...\n",
      "ehr:  #...\n",
      "\n"
     ]
    }
   ],
   "source": [
    "print(f\"\"\"\n",
    "shapes:\n",
    "mcnamast: {mcnamast_classify.shape} \n",
    "gdeitz: {gdeitz_classify.shape} \n",
    "swangyu: {swangyu_classify.shape}\n",
    "average: {average_classify.shape}\n",
    "scotts_segformer:  #...\n",
    "ehr:  #...\n",
    "\"\"\")"
   ]
  },
  {
   "cell_type": "code",
   "execution_count": 6,
   "metadata": {},
   "outputs": [
    {
     "name": "stderr",
     "output_type": "stream",
     "text": [
      "/tmp/ipykernel_1914433/3316517193.py:1: SettingWithCopyWarning: \n",
      "A value is trying to be set on a copy of a slice from a DataFrame\n",
      "\n",
      "See the caveats in the documentation: https://pandas.pydata.org/pandas-docs/stable/user_guide/indexing.html#returning-a-view-versus-a-copy\n",
      "  mcnamast_classify.sort_values('image_id', inplace=True);\n",
      "/tmp/ipykernel_1914433/3316517193.py:2: SettingWithCopyWarning: \n",
      "A value is trying to be set on a copy of a slice from a DataFrame\n",
      "\n",
      "See the caveats in the documentation: https://pandas.pydata.org/pandas-docs/stable/user_guide/indexing.html#returning-a-view-versus-a-copy\n",
      "  gdeitz_classify.sort_values('image_id', inplace=True);\n",
      "/tmp/ipykernel_1914433/3316517193.py:3: SettingWithCopyWarning: \n",
      "A value is trying to be set on a copy of a slice from a DataFrame\n",
      "\n",
      "See the caveats in the documentation: https://pandas.pydata.org/pandas-docs/stable/user_guide/indexing.html#returning-a-view-versus-a-copy\n",
      "  swangyu_classify.sort_values('image_id', inplace=True);\n"
     ]
    }
   ],
   "source": [
    "mcnamast_classify.sort_values('image_id', inplace=True);\n",
    "gdeitz_classify.sort_values('image_id', inplace=True);\n",
    "swangyu_classify.sort_values('image_id', inplace=True);\n",
    "average_classify.sort_values('image_id', inplace=True);"
   ]
  },
  {
   "cell_type": "code",
   "execution_count": 7,
   "metadata": {},
   "outputs": [
    {
     "data": {
      "image/png": "[encoded data removed]",
      "text/plain": [
       "<Figure size 640x480 with 1 Axes>"
      ]
     },
     "metadata": {},
     "output_type": "display_data"
    }
   ],
   "source": [
    "data_classify = pd.DataFrame({\n",
    "\"image_id\": list(average_classify['image_id']),\n",
    "\"average_CDR\": list(average_classify['CDR']),\n",
    "\"mcnamast_CDR\": list(mcnamast_classify['CDR']),\n",
    "\"gdeitz_CDR\": list(gdeitz_classify['CDR']),\n",
    "\"swangyu_CDR\": list(swangyu_classify['CDR']),\n",
    "})\n",
    "\n",
    "sns.scatterplot(data=data_classify, x='average_CDR', y='mcnamast_CDR', label='mcnamast_CDR')\n",
    "sns.scatterplot(data=data_classify, x='average_CDR', y='gdeitz_CDR', label='gdeitz_CDR')\n",
    "sns.scatterplot(data=data_classify, x='average_CDR', y='swangyu_CDR', label='swangyu_CDR')\n",
    "\n",
    "\n",
    "# Melt the DataFrame to create a single column for y-values and another for category labels\n",
    "# melted_data = data.melt(id_vars=['image_id'], var_name='annotator', value_name='CDR')\n",
    "# melted_data\n",
    "# Create a scatter plot with different colors for each category\n",
    "# sns.scatterplot(data=melted_data, x='average_CDR', y='CDR', hue='annotator')\n",
    "\n",
    "# # # Customize the plot\n",
    "plt.xlabel('Average CDR')\n",
    "plt.ylabel('Estimated CDR')\n",
    "plt.title('Scatter Plot of Annotators Est v Avg CDR')\n",
    "plt.legend()\n",
    "\n",
    "# Show the plot\n",
    "plt.show()\n"
   ]
  },
  {
   "cell_type": "markdown",
   "metadata": {},
   "source": [
    "#### Raters Against Each Other"
   ]
  },
  {
   "cell_type": "markdown",
   "metadata": {},
   "source": [
    "TODO: Interrater agreement on the CDR is correlation coeff. and interrater agreement on stable, mild, sig is linear kappa for both flicker and compare.\n",
    "Stacked bar chart for stable, mild, significant progression.\n",
    "\n",
    "* average of cohen kappa when done on all rater combos for all classes.\n",
    "  - 3 people combos for each compare and flicker = 6 kappas \n",
    "* then between raters filter for each category do was in agreement or not.\n",
    "  - 3 people combos by 3 different classes by cmpare and flicker for  = 18 kappas."
   ]
  },
  {
   "cell_type": "code",
   "execution_count": null,
   "metadata": {},
   "outputs": [],
   "source": [
    "# Scott's Model OLD\n",
    "# ...pending\n",
    "\n",
    "# Scott's Model NEW\n",
    "# ...pending\n",
    "\n",
    "# EHR\n",
    "# ...pending\n",
    "\n",
    "\n",
    "# Classify\n",
    "average_side_by_side_cdrs\n",
    "\n",
    "# Compare\n",
    "mcnamast_compare = all_compare[all_compare['user'] == 'mcnamast']\n",
    "gdeitz_compare = all_compare[all_compare['user'] == 'gdeitz']\n",
    "swangyu_compare = all_compare[all_compare['user'] == 'swangyu']\n",
    "\n",
    "mcnamast_compare.sort_values(['image_1_id', 'image_2_id'], inplace=True)\n",
    "gdeitz_compare.sort_values(['image_1_id', 'image_2_id'], inplace=True)\n",
    "swangyu_compare.sort_values(['image_1_id', 'image_2_id'], inplace=True)\n",
    "all_compare.sort_values(['image_1_id', 'image_2_id'], inplace=True)\n",
    "\n",
    "# Flicker\n",
    "mcnamast_flicker = all_flicker[all_flicker['user'] == 'mcnamast']\n",
    "gdeitz_flicker = all_flicker[all_flicker['user'] == 'gdeitz']\n",
    "swangyu_flicker = all_flicker[all_flicker['user'] == 'swangyu']\n",
    "\n",
    "mcnamast_flicker.sort_values(['image_1_id', 'image_2_id'], inplace=True)\n",
    "gdeitz_flicker.sort_values(['image_1_id', 'image_2_id'], inplace=True)\n",
    "swangyu_flicker.sort_values(['image_1_id', 'image_2_id'], inplace=True)\n",
    "all_flicker.sort_values(['image_1_id', 'image_2_id'], inplace=True)\n",
    "\n"
   ]
  },
  {
   "cell_type": "code",
   "execution_count": null,
   "metadata": {},
   "outputs": [],
   "source": [
    "mcnamast_compare['Choose CDR Desc']\n",
    "gdeitz_compare['Choose CDR Desc']\n",
    "swangyu_compare['Choose CDR Desc']\n",
    "\n",
    "mcnamast_flicker['Choose CDR Desc']\n",
    "gdeitz_flicker['Choose CDR Desc']\n",
    "swangyu_flicker['Choose CDR Desc']"
   ]
  },
  {
   "cell_type": "code",
   "execution_count": null,
   "metadata": {},
   "outputs": [],
   "source": [
    "def make_confusing(ann1, ann2):\n",
    "    # Create a confusion matrix\n",
    "    cm = confusion_matrix(ann1['data']['Choose CDR Desc'], ann2['data']['Choose CDR Desc'], labels=['Stable (CDR change 0.0)', 'Mild Progression (CDR change 0.00 - 0.15)', 'Significant Progression (CDR change 0.15 - 0.3)'])\n",
    "    # Plot the confusion matrix as a heatmap\n",
    "    plt.figure(figsize=(6, 6))\n",
    "    sns.heatmap(cm, annot=True, fmt='d', cmap='Blues', cbar=False,\n",
    "                xticklabels=['Stable (CDR change 0.0)', 'Mild Progression (CDR change 0.00 - 0.15)', 'Significant Progression (CDR change 0.15 - 0.3)'],\n",
    "                yticklabels=['Stable (CDR change 0.0)', 'Mild Progression (CDR change 0.00 - 0.15)', 'Significant Progression (CDR change 0.15 - 0.3)'])\n",
    "    plt.xlabel(f\"{ann2['ann']} Labels\")\n",
    "    plt.ylabel(f\"{ann1['ann']} Labels\")\n",
    "    plt.title('Confusion Matrix')\n",
    "    plt.show()\n"
   ]
  },
  {
   "cell_type": "code",
   "execution_count": null,
   "metadata": {},
   "outputs": [],
   "source": [
    "ann1 = {\"ann\": \"mcnamara\", \"data\": mcnamast_compare[['image_1_id', 'image_2_id', 'Choose CDR Desc']]}\n",
    "ann2 = {\"ann\": \"gdeitz\", \"data\": gdeitz_compare[['image_1_id', 'image_2_id', 'Choose CDR Desc']]}\n",
    "ann3 = {\"ann\": \"swangyu\", \"data\": swangyu_compare[['image_1_id', 'image_2_id', 'Choose CDR Desc']]}\n",
    "ann4 = {\"ann\": \"average_classify_cdrs\", \"data\": average_side_by_side_cdrs[['image_1_id', 'image_2_id', 'Choose CDR Desc']]}"
   ]
  },
  {
   "cell_type": "code",
   "execution_count": null,
   "metadata": {},
   "outputs": [],
   "source": [
    "make_confusing(ann1, ann2)"
   ]
  },
  {
   "cell_type": "code",
   "execution_count": null,
   "metadata": {},
   "outputs": [],
   "source": [
    "make_confusing(ann1, ann3)"
   ]
  },
  {
   "cell_type": "code",
   "execution_count": null,
   "metadata": {},
   "outputs": [],
   "source": [
    "make_confusing(ann1, ann4)"
   ]
  },
  {
   "cell_type": "code",
   "execution_count": null,
   "metadata": {},
   "outputs": [],
   "source": [
    "make_confusing(ann2, ann3)"
   ]
  },
  {
   "cell_type": "code",
   "execution_count": null,
   "metadata": {},
   "outputs": [],
   "source": [
    "make_confusing(ann2, ann4)"
   ]
  },
  {
   "cell_type": "code",
   "execution_count": null,
   "metadata": {},
   "outputs": [],
   "source": [
    "make_confusing(ann3, ann4)"
   ]
  },
  {
   "cell_type": "code",
   "execution_count": null,
   "metadata": {},
   "outputs": [],
   "source": [
    "ann1 = {\"ann\": \"mcnamara\", \"data\": mcnamast_flicker[['image_1_id', 'image_2_id', 'Choose CDR Desc']]}\n",
    "ann2 = {\"ann\": \"gdeitz\", \"data\": gdeitz_flicker[['image_1_id', 'image_2_id', 'Choose CDR Desc']]}\n",
    "ann3 = {\"ann\": \"swangyu\", \"data\": swangyu_flicker[['image_1_id', 'image_2_id', 'Choose CDR Desc']]}\n",
    "ann4 = {\"ann\": \"average_classify_cdrs\", \"data\": average_side_by_side_cdrs[['image_1_id', 'image_2_id', 'Choose CDR Desc']]}"
   ]
  },
  {
   "cell_type": "code",
   "execution_count": null,
   "metadata": {},
   "outputs": [],
   "source": [
    "make_confusing(ann1, ann2)"
   ]
  },
  {
   "cell_type": "code",
   "execution_count": null,
   "metadata": {},
   "outputs": [],
   "source": [
    "make_confusing(ann1, ann3)"
   ]
  },
  {
   "cell_type": "code",
   "execution_count": null,
   "metadata": {},
   "outputs": [],
   "source": [
    "make_confusing(ann1, ann4)"
   ]
  },
  {
   "cell_type": "code",
   "execution_count": null,
   "metadata": {},
   "outputs": [],
   "source": [
    "make_confusing(ann2, ann3)"
   ]
  },
  {
   "cell_type": "code",
   "execution_count": null,
   "metadata": {},
   "outputs": [],
   "source": [
    "make_confusing(ann2, ann4)"
   ]
  },
  {
   "cell_type": "code",
   "execution_count": null,
   "metadata": {},
   "outputs": [],
   "source": [
    "make_confusing(ann3, ann4)"
   ]
  },
  {
   "cell_type": "markdown",
   "metadata": {},
   "source": [
    "### Boxes"
   ]
  },
  {
   "cell_type": "markdown",
   "metadata": {},
   "source": [
    "We need the bar plot for all subdivided by annotator and stacked."
   ]
  },
  {
   "cell_type": "code",
   "execution_count": null,
   "metadata": {},
   "outputs": [],
   "source": [
    "\n",
    "def plot_annotator_bar_plot(compare, flicker, annotator=\"\"):\n",
    "    data = pd.DataFrame({\n",
    "        \"Choose CDR Desc\": list(compare['Choose CDR Desc']) + list(flicker['Choose CDR Desc']),\n",
    "        \"app\": [\"compare\"]*len(compare[['taskid','Choose CDR Desc']]) + [\"flicker\"]*len(flicker[['taskid','Choose CDR Desc']])\n",
    "    })\n",
    "\n",
    "    # Create a countplot\n",
    "    sns.set(style=\"whitegrid\")\n",
    "    ax = sns.countplot(data=data, x='Choose CDR Desc', hue='app')\n",
    "\n",
    "\n",
    "    # Customize the plot\n",
    "    plt.xlabel('Category')\n",
    "    plt.ylabel('Count')\n",
    "    plt.title(f\"Annotator {annotator} Bar Chart with 3 Categories, Compare v Flicker\")\n",
    "    plt.legend(title='Source')\n",
    "\n",
    "    # Rotate x-axis labels\n",
    "    ax.set_xticklabels(ax.get_xticklabels(), rotation=45)  # Adjust the rotation angle as needed\n",
    "\n",
    "    # Show the plot\n",
    "    plt.show()\n"
   ]
  },
  {
   "cell_type": "code",
   "execution_count": null,
   "metadata": {},
   "outputs": [],
   "source": [
    "plot_annotator_bar_plot(mcnamast_compare, mcnamast_flicker, annotator=\"mcnamast\")"
   ]
  },
  {
   "cell_type": "code",
   "execution_count": null,
   "metadata": {},
   "outputs": [],
   "source": [
    "plot_annotator_bar_plot(gdeitz_compare, gdeitz_flicker, annotator=\"gdeitz\")"
   ]
  },
  {
   "cell_type": "code",
   "execution_count": null,
   "metadata": {},
   "outputs": [],
   "source": [
    "plot_annotator_bar_plot(swangyu_compare, swangyu_flicker, annotator=\"swangyu\")"
   ]
  },
  {
   "cell_type": "code",
   "execution_count": null,
   "metadata": {},
   "outputs": [],
   "source": [
    "plot_annotator_bar_plot(all_compare, all_flicker, annotator=\"all\")"
   ]
  },
  {
   "cell_type": "code",
   "execution_count": null,
   "metadata": {},
   "outputs": [],
   "source": []
  }
 ],
 "metadata": {
  "kernelspec": {
   "display_name": "imageComparatorAnalysis",
   "language": "python",
   "name": "python3"
  },
  "language_info": {
   "codemirror_mode": {
    "name": "ipython",
    "version": 3
   },
   "file_extension": ".py",
   "mimetype": "text/x-python",
   "name": "python",
   "nbconvert_exporter": "python",
   "pygments_lexer": "ipython3",
   "version": "3.10.4"
  }
 },
 "nbformat": 4,
 "nbformat_minor": 2
}
