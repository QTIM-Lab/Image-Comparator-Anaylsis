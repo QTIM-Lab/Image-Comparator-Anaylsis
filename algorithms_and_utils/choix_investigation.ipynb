{
 "cells": [
  {
   "cell_type": "markdown",
   "metadata": {},
   "source": [
    "# Introduction using pairwise-comparison data\n",
    "\n",
    "This notebook provides a gentle introduction to the `choix` library.\n",
    "We consider the case of pairwise-comparison outcomes between items from some set."
   ]
  },
  {
   "cell_type": "code",
   "execution_count": 1,
   "metadata": {
    "collapsed": true,
    "jupyter": {
     "outputs_hidden": true
    }
   },
   "outputs": [],
   "source": [
    "import choix\n",
    "import networkx as nx\n",
    "import numpy as np\n",
    "\n",
    "%matplotlib inline\n",
    "np.set_printoptions(precision=3, suppress=True)"
   ]
  },
  {
   "cell_type": "markdown",
   "metadata": {},
   "source": [
    "In `choix`, items are represented by $n$ consecutive integers $\\{0, \\ldots, n-1 \\}$.\n",
    "The event \"item $i$ wins over item $j$\" is represented by the Python tuple `(i, j)`.\n",
    "Note that the winning item always comes *first* in the tuple.\n",
    "\n",
    "We start by defining a small dataset of comparison outcomes."
   ]
  },
  {
   "cell_type": "code",
   "execution_count": 2,
   "metadata": {
    "collapsed": true,
    "jupyter": {
     "outputs_hidden": true
    }
   },
   "outputs": [],
   "source": [
    "n_items = 5\n",
    "data = [\n",
    "    (1, 0), (0, 4), (3, 1),\n",
    "    (0, 2), (2, 4), (4, 3),\n",
    "]"
   ]
  },
  {
   "cell_type": "markdown",
   "metadata": {},
   "source": [
    "This dataset can be visually represented by using a graph:\n",
    "\n",
    "- each node is an item, and\n",
    "- there is an edge from node $i$ to node $j$ for every observation \"$i$ wins over $j$\"."
   ]
  },
  {
   "cell_type": "code",
   "execution_count": 3,
   "metadata": {
    "collapsed": false,
    "jupyter": {
     "outputs_hidden": false
    }
   },
   "outputs": [
    {
     "data": {
      "image/png": "[encoded data removed]",
      "text/plain": [
       "<Figure size 640x480 with 1 Axes>"
      ]
     },
     "metadata": {},
     "output_type": "display_data"
    }
   ],
   "source": [
    "graph = nx.DiGraph(data=data)\n",
    "nx.draw(graph, with_labels=True)"
   ]
  },
  {
   "cell_type": "markdown",
   "metadata": {},
   "source": [
    "Suppose that we want to fit a [Bradley-Terry model](https://en.wikipedia.org/wiki/Bradley%E2%80%93Terry_model) on this data.\n",
    "`choix` provides several algorithms to do this; below, we use a maximum-likelihood inference algorithm called I-LSR."
   ]
  },
  {
   "cell_type": "code",
   "execution_count": 4,
   "metadata": {
    "collapsed": false,
    "jupyter": {
     "outputs_hidden": false
    }
   },
   "outputs": [
    {
     "name": "stdout",
     "output_type": "stream",
     "text": [
      "[ 0.583  0.194 -0.    -0.194 -0.583]\n"
     ]
    }
   ],
   "source": [
    "params = choix.ilsr_pairwise(n_items, data)\n",
    "print(params)"
   ]
  },
  {
   "cell_type": "markdown",
   "metadata": {},
   "source": [
    "The parameters can be thought of as the \"strength\" (or utility) of each item.\n",
    "It is possible to use them to rank the items: simply order the items by increasing parameter value."
   ]
  },
  {
   "cell_type": "code",
   "execution_count": 5,
   "metadata": {
    "collapsed": false,
    "jupyter": {
     "outputs_hidden": false
    }
   },
   "outputs": [
    {
     "name": "stdout",
     "output_type": "stream",
     "text": [
      "ranking (worst to best): [4 3 2 1 0]\n"
     ]
    }
   ],
   "source": [
    "print(\"ranking (worst to best):\", np.argsort(params))"
   ]
  },
  {
   "cell_type": "markdown",
   "metadata": {},
   "source": [
    "It is also possible to use the parameters to predict outcomes of future comparisons."
   ]
  },
  {
   "cell_type": "code",
   "execution_count": 6,
   "metadata": {
    "collapsed": false,
    "jupyter": {
     "outputs_hidden": false
    }
   },
   "outputs": [
    {
     "name": "stdout",
     "output_type": "stream",
     "text": [
      "Prob(1 wins over 4): 0.69\n"
     ]
    }
   ],
   "source": [
    "prob_1_wins, prob_4_wins = choix.probabilities([1, 4], params)\n",
    "print(\"Prob(1 wins over 4): {:.2f}\".format(prob_1_wins))"
   ]
  },
  {
   "cell_type": "markdown",
   "metadata": {},
   "source": [
    "## Dealing with sparsity\n",
    "\n",
    "When the comparison graph is not connected, the maximum-likelihood estimate is not well defined.\n",
    "This happens for example when one item always wins, or always loses.\n",
    "In the following example, item $3$ always wins, and item $0$ always loses."
   ]
  },
  {
   "cell_type": "code",
   "execution_count": 11,
   "metadata": {
    "collapsed": false,
    "jupyter": {
     "outputs_hidden": false
    }
   },
   "outputs": [
    {
     "data": {
      "image/png": "[encoded data removed]",
      "text/plain": [
       "<Figure size 640x480 with 1 Axes>"
      ]
     },
     "metadata": {},
     "output_type": "display_data"
    }
   ],
   "source": [
    "n_items = 4\n",
    "data = [(3, 2), (2, 1), (1, 0)]\n",
    "\n",
    "graph = nx.DiGraph(data=data)\n",
    "nx.draw(graph, with_labels=True)"
   ]
  },
  {
   "cell_type": "markdown",
   "metadata": {},
   "source": [
    "In these cases, most of the estimators will fail by default."
   ]
  },
  {
   "cell_type": "code",
   "execution_count": 12,
   "metadata": {
    "collapsed": false,
    "jupyter": {
     "outputs_hidden": false
    }
   },
   "outputs": [
    {
     "name": "stderr",
     "output_type": "stream",
     "text": [
      "/home/bbearce/.virtualenvs/venv3.10.4/lib/python3.10/site-packages/choix/utils.py:18: RuntimeWarning: divide by zero encountered in log\n",
      "  params = np.log(weights)\n",
      "/home/bbearce/.virtualenvs/venv3.10.4/lib/python3.10/site-packages/choix/utils.py:19: RuntimeWarning: invalid value encountered in subtract\n",
      "  return params - params.mean()\n"
     ]
    },
    {
     "ename": "RuntimeError",
     "evalue": "Did not converge after 100 iterations",
     "output_type": "error",
     "traceback": [
      "\u001b[0;31m---------------------------------------------------------------------------\u001b[0m",
      "\u001b[0;31mRuntimeError\u001b[0m                              Traceback (most recent call last)",
      "Cell \u001b[0;32mIn[12], line 1\u001b[0m\n\u001b[0;32m----> 1\u001b[0m \u001b[43mchoix\u001b[49m\u001b[38;5;241;43m.\u001b[39;49m\u001b[43milsr_pairwise\u001b[49m\u001b[43m(\u001b[49m\u001b[43mn_items\u001b[49m\u001b[43m,\u001b[49m\u001b[43m \u001b[49m\u001b[43mdata\u001b[49m\u001b[43m)\u001b[49m\n",
      "File \u001b[0;32m~/.virtualenvs/venv3.10.4/lib/python3.10/site-packages/choix/lsr.py:109\u001b[0m, in \u001b[0;36milsr_pairwise\u001b[0;34m(n_items, data, alpha, initial_params, max_iter, tol)\u001b[0m\n\u001b[1;32m     <a href='file:///home/bbearce/.virtualenvs/venv3.10.4/lib/python3.10/site-packages/choix/lsr.py?line=75'>76</a>\u001b[0m \u001b[39m\u001b[39m\u001b[39m\"\"\"Compute the ML estimate of model parameters using I-LSR.\u001b[39;00m\n\u001b[1;32m     <a href='file:///home/bbearce/.virtualenvs/venv3.10.4/lib/python3.10/site-packages/choix/lsr.py?line=76'>77</a>\u001b[0m \n\u001b[1;32m     <a href='file:///home/bbearce/.virtualenvs/venv3.10.4/lib/python3.10/site-packages/choix/lsr.py?line=77'>78</a>\u001b[0m \u001b[39mThis function computes the maximum-likelihood (ML) estimate of model\u001b[39;00m\n\u001b[0;32m   (...)\u001b[0m\n\u001b[1;32m    <a href='file:///home/bbearce/.virtualenvs/venv3.10.4/lib/python3.10/site-packages/choix/lsr.py?line=104'>105</a>\u001b[0m \u001b[39m    The ML estimate of model parameters.\u001b[39;00m\n\u001b[1;32m    <a href='file:///home/bbearce/.virtualenvs/venv3.10.4/lib/python3.10/site-packages/choix/lsr.py?line=105'>106</a>\u001b[0m \u001b[39m\"\"\"\u001b[39;00m\n\u001b[1;32m    <a href='file:///home/bbearce/.virtualenvs/venv3.10.4/lib/python3.10/site-packages/choix/lsr.py?line=106'>107</a>\u001b[0m fun \u001b[39m=\u001b[39m functools\u001b[39m.\u001b[39mpartial(\n\u001b[1;32m    <a href='file:///home/bbearce/.virtualenvs/venv3.10.4/lib/python3.10/site-packages/choix/lsr.py?line=107'>108</a>\u001b[0m         lsr_pairwise, n_items\u001b[39m=\u001b[39mn_items, data\u001b[39m=\u001b[39mdata, alpha\u001b[39m=\u001b[39malpha)\n\u001b[0;32m--> <a href='file:///home/bbearce/.virtualenvs/venv3.10.4/lib/python3.10/site-packages/choix/lsr.py?line=108'>109</a>\u001b[0m \u001b[39mreturn\u001b[39;00m _ilsr(fun, initial_params, max_iter, tol)\n",
      "File \u001b[0;32m~/.virtualenvs/venv3.10.4/lib/python3.10/site-packages/choix/lsr.py:33\u001b[0m, in \u001b[0;36m_ilsr\u001b[0;34m(fun, params, max_iter, tol)\u001b[0m\n\u001b[1;32m     <a href='file:///home/bbearce/.virtualenvs/venv3.10.4/lib/python3.10/site-packages/choix/lsr.py?line=30'>31</a>\u001b[0m     \u001b[39mif\u001b[39;00m converged(params):\n\u001b[1;32m     <a href='file:///home/bbearce/.virtualenvs/venv3.10.4/lib/python3.10/site-packages/choix/lsr.py?line=31'>32</a>\u001b[0m         \u001b[39mreturn\u001b[39;00m params\n\u001b[0;32m---> <a href='file:///home/bbearce/.virtualenvs/venv3.10.4/lib/python3.10/site-packages/choix/lsr.py?line=32'>33</a>\u001b[0m \u001b[39mraise\u001b[39;00m \u001b[39mRuntimeError\u001b[39;00m(\u001b[39m\"\u001b[39m\u001b[39mDid not converge after \u001b[39m\u001b[39m{}\u001b[39;00m\u001b[39m iterations\u001b[39m\u001b[39m\"\u001b[39m\u001b[39m.\u001b[39mformat(max_iter))\n",
      "\u001b[0;31mRuntimeError\u001b[0m: Did not converge after 100 iterations"
     ]
    }
   ],
   "source": [
    "choix.ilsr_pairwise(n_items, data)"
   ]
  },
  {
   "cell_type": "markdown",
   "metadata": {},
   "source": [
    "The problem can be solved by adding a little bit of regularization as follows."
   ]
  },
  {
   "cell_type": "code",
   "execution_count": 8,
   "metadata": {
    "collapsed": false,
    "jupyter": {
     "outputs_hidden": false
    }
   },
   "outputs": [
    {
     "data": {
      "text/plain": [
       "array([-4.159, -0.979,  1.483,  3.655])"
      ]
     },
     "execution_count": 8,
     "metadata": {},
     "output_type": "execute_result"
    }
   ],
   "source": [
    "choix.ilsr_pairwise(n_items, data, alpha=0.01)"
   ]
  }
 ],
 "metadata": {
  "interpreter": {
   "hash": "eefde60834c2938ebe9d828422944bcf81a6804dfc60a0a57f8e23407ba62ff3"
  },
  "kernelspec": {
   "display_name": "Python 3.10.4 ('venv3.10.4')",
   "language": "python",
   "name": "python3"
  },
  "language_info": {
   "codemirror_mode": {
    "name": "ipython",
    "version": 3
   },
   "file_extension": ".py",
   "mimetype": "text/x-python",
   "name": "python",
   "nbconvert_exporter": "python",
   "pygments_lexer": "ipython3",
   "version": "3.10.4"
  }
 },
 "nbformat": 4,
 "nbformat_minor": 4
}
